{
  "metadata": {
    "language_info": {
      "codemirror_mode": {
        "name": "python",
        "version": 3
      },
      "file_extension": ".py",
      "mimetype": "text/x-python",
      "name": "python",
      "nbconvert_exporter": "python",
      "pygments_lexer": "ipython3",
      "version": "3.8"
    },
    "kernelspec": {
      "name": "python",
      "display_name": "Python (Pyodide)",
      "language": "python"
    }
  },
  "nbformat_minor": 4,
  "nbformat": 4,
  "cells": [
    {
      "cell_type": "code",
      "source": "def sortSecond(val):\n    return val[1]\nlist1 = [(\"sachin Tendulkar\", 34357), (\"Ricky Pointing\",27483, ), \"jacob Kalis\",25534)(\"virat kohli\",24936)]\nlist1.sort(key=sortSecond)\nprint(list1)\n ist1.sort(key=sortSecond, reverse=True)\nprint(list1)",
      "metadata": {},
      "execution_count": null,
      "outputs": []
    }
  ]
}