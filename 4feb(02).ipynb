{
  "metadata": {
    "language_info": {
      "codemirror_mode": {
        "name": "python",
        "version": 3
      },
      "file_extension": ".py",
      "mimetype": "text/x-python",
      "name": "python",
      "nbconvert_exporter": "python",
      "pygments_lexer": "ipython3",
      "version": "3.8"
    },
    "kernelspec": {
      "name": "python",
      "display_name": "Python (Pyodide)",
      "language": "python"
    }
  },
  "nbformat_minor": 4,
  "nbformat": 4,
  "cells": [
    {
      "cell_type": "code",
      "source": "nums = [1, 2, 3, 4, 5, 6, 7, 8, 9, 10]\nprint(\"Original list of integers:\")\nprint(nums)\nprint(\"\\nSquare every number of the said list:\")\nsquare_nums = list(map(lambda x: x ** 2, nums))\nprint(square_nums)",
      "metadata": {},
      "execution_count": null,
      "outputs": []
    }
  ]
}